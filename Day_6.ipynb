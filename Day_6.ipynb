{
  "nbformat": 4,
  "nbformat_minor": 0,
  "metadata": {
    "colab": {
      "provenance": [],
      "authorship_tag": "ABX9TyNM7+BlOj72os44/Qi3rOde",
      "include_colab_link": true
    },
    "kernelspec": {
      "name": "python3",
      "display_name": "Python 3"
    },
    "language_info": {
      "name": "python"
    }
  },
  "cells": [
    {
      "cell_type": "markdown",
      "metadata": {
        "id": "view-in-github",
        "colab_type": "text"
      },
      "source": [
        "<a href=\"https://colab.research.google.com/github/faryal16/Python_Coding_Challenges/blob/main/Day_6.ipynb\" target=\"_parent\"><img src=\"https://colab.research.google.com/assets/colab-badge.svg\" alt=\"Open In Colab\"/></a>"
      ]
    },
    {
      "cell_type": "code",
      "source": [
        "# 🚀 Mission:\n",
        "# Create a random password generator that generates strong passwords.\n",
        "\n",
        "import random\n",
        "import string\n",
        "\n",
        "def generate_password(length, use_upper, use_lower, use_numbers, use_symbols):\n",
        "    characters = \"\"\n",
        "\n",
        "    if use_upper:\n",
        "        characters += string.ascii_uppercase\n",
        "    if use_lower:\n",
        "        characters += string.ascii_lowercase\n",
        "    if use_numbers:\n",
        "        characters += string.digits\n",
        "    if use_symbols:\n",
        "        characters += string.punctuation\n",
        "\n",
        "    return ''.join(random.choice(characters) for _ in range(length))\n",
        "\n",
        "# User input for password length\n",
        "while True:\n",
        "    print(\"\\t\\t🔒 Random Password Generator\\n\")\n",
        "    try:\n",
        "        length = int(input(\"Enter password length (min 8): \"))\n",
        "        if length >= 8:\n",
        "            print(\"\\n✅ Password length accepted!\\n\")\n",
        "            break\n",
        "        else:\n",
        "            print(\"❌ Password length must be at least 8. Please try again.\\n\")\n",
        "    except ValueError:\n",
        "        print(\"⚠️ Please enter a valid number.\")\n",
        "\n",
        "# Loop to ensure at least one character type is selected\n",
        "while True:\n",
        "    use_upper = input(\"Include uppercase letters? (y/n): \").lower() == 'y'\n",
        "    use_lower = input(\"Include lowercase letters? (y/n): \").lower() == 'y'\n",
        "    use_numbers = input(\"Include numbers? (y/n): \").lower() == 'y'\n",
        "    use_symbols = input(\"Include symbols? (y/n): \").lower() == 'y'\n",
        "\n",
        "    if use_upper or use_lower or use_numbers or use_symbols:\n",
        "        print(\"\\n✅ Character selection accepted!\\n\")\n",
        "        break\n",
        "    else:\n",
        "        print(\"\\n⚠️ You must select at least one character type. Please try again.\\n\")\n",
        "\n",
        "# Number of passwords to generate\n",
        "while True:\n",
        "    try:\n",
        "        num_passwords = int(input(\"How many passwords you want to generate in one time? \"))\n",
        "        if num_passwords > 0:\n",
        "            break\n",
        "        else:\n",
        "            print(\"⚠️ Please enter a number greater than 0.\")\n",
        "    except ValueError:\n",
        "        print(\"⚠️ Please enter a valid number.\")\n",
        "\n",
        "# Generate passwords\n",
        "print(\"\\n🔑 Generated Passwords:\")\n",
        "for _ in range(num_passwords):\n",
        "    print(f\"\\n{generate_password(length, use_upper, use_lower, use_numbers, use_symbols)}\")\n"
      ],
      "metadata": {
        "colab": {
          "base_uri": "https://localhost:8080/"
        },
        "id": "Erg8GXiS0DM7",
        "outputId": "8c20b01a-b139-4850-ce56-ecbd50bdf17f"
      },
      "execution_count": 4,
      "outputs": [
        {
          "output_type": "stream",
          "name": "stdout",
          "text": [
            "\t\t🔒 Random Password Generator\n",
            "\n",
            "Enter password length (min 8): 4\n",
            "❌ Password length must be at least 8. Please try again.\n",
            "\n",
            "\t\t🔒 Random Password Generator\n",
            "\n",
            "Enter password length (min 8): 9\n",
            "\n",
            "✅ Password length accepted!\n",
            "\n",
            "Include uppercase letters? (y/n): y\n",
            "Include lowercase letters? (y/n): n\n",
            "Include numbers? (y/n): y\n",
            "Include symbols? (y/n): n\n",
            "\n",
            "✅ Character selection accepted!\n",
            "\n",
            "How many passwords you want to generate in one time? 0\n",
            "⚠️ Please enter a number greater than 0.\n",
            "How many passwords you want to generate in one time? 3\n",
            "\n",
            "🔑 Generated Passwords:\n",
            "\n",
            "ZIG19HTJE\n",
            "\n",
            "1VEOE6I22\n",
            "\n",
            "V4M915PFS\n"
          ]
        }
      ]
    }
  ]
}