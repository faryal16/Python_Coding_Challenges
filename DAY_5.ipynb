{
  "nbformat": 4,
  "nbformat_minor": 0,
  "metadata": {
    "colab": {
      "provenance": [],
      "authorship_tag": "ABX9TyNHyyQg1Dp3CQCyB8WU7eAm",
      "include_colab_link": true
    },
    "kernelspec": {
      "name": "python3",
      "display_name": "Python 3"
    },
    "language_info": {
      "name": "python"
    }
  },
  "cells": [
    {
      "cell_type": "markdown",
      "metadata": {
        "id": "view-in-github",
        "colab_type": "text"
      },
      "source": [
        "<a href=\"https://colab.research.google.com/github/faryal16/Python_Coding_Challenges/blob/main/DAY_5.ipynb\" target=\"_parent\"><img src=\"https://colab.research.google.com/assets/colab-badge.svg\" alt=\"Open In Colab\"/></a>"
      ]
    },
    {
      "cell_type": "code",
      "execution_count": 2,
      "metadata": {
        "colab": {
          "base_uri": "https://localhost:8080/"
        },
        "id": "UON6Bjlo8Ia7",
        "outputId": "80cee9e0-416e-4704-9cb1-d3724bd6536f"
      },
      "outputs": [
        {
          "output_type": "stream",
          "name": "stdout",
          "text": [
            "Hey there! Welcome to my game zone 🎮\n",
            "\n",
            "🐬  🎀  𝒢𝒰𝐸𝒮𝒮 𝒯𝐻𝐸 𝒩𝒰𝑀𝐵𝐸𝑅  🎀  🐬\n",
            "\n",
            "Let me think of a number between 1 to 100...\n",
            "\n",
            "\n",
            "🎉So, how daring do you feel today? Choose 'easy' or 'hard': hard\n",
            "\n",
            "You have 5 attempts remaining to guess the right number.\n",
            "Guess a number: 56\n",
            "Your guess is too low.\n",
            "🔄 Try again!\n",
            "\n",
            "You have 4 attempts remaining to guess the right number.\n",
            "Guess a number: 78\n",
            "Your guess is too high.\n",
            "🔄 Try again!\n",
            "\n",
            "You have 3 attempts remaining to guess the right number.\n",
            "Guess a number: 65\n",
            "Your guess is too high.\n",
            "🔄 Try again!\n",
            "\n",
            "You have 2 attempts remaining to guess the right number.\n",
            "Guess a number: 55\n",
            "Your guess is too low.\n",
            "🔄 Try again!\n",
            "\n",
            "You have 1 attempts remaining to guess the right number.\n",
            "Guess a number: 60\n",
            "\n",
            "🎉 Woooo! You got it! Yes, the answer was 60! 🎉\n"
          ]
        }
      ],
      "source": [
        "import random\n",
        "\n",
        "\n",
        "EASY_LEVEL_ATTEMPTS = 10\n",
        "HARD_LEVEL_ATTEMPTS = 5\n",
        "\n",
        "def set_difficulty(level_chosen):\n",
        "    \"\"\"Sets the number of attempts based on difficulty level.\"\"\"\n",
        "    if level_chosen == 'easy':\n",
        "        return EASY_LEVEL_ATTEMPTS\n",
        "    else:\n",
        "        return HARD_LEVEL_ATTEMPTS\n",
        "\n",
        "def check_answer(guessed_number, answer, attempts):\n",
        "    \"\"\"Checks the guessed number against the answer and returns remaining attempts.\"\"\"\n",
        "    if guessed_number < answer:\n",
        "        print(\"Your guess is too low.\")\n",
        "        return attempts - 1\n",
        "    elif guessed_number > answer:\n",
        "        print(\"Your guess is too high.\")\n",
        "        return attempts - 1\n",
        "    else:\n",
        "        print(f\"\\n🎉 Woooo! You got it! Yes, the answer was {answer}! 🎉\")\n",
        "        return None  # Returning None to indicate a correct guess\n",
        "\n",
        "def game():\n",
        "    \"\"\"Main function to run the game.\"\"\"\n",
        "    print(\"Hey there! Welcome to my game zone 🎮\")\n",
        "    print(\"\"\"\n",
        "🐬  🎀  𝒢𝒰𝐸𝒮𝒮 𝒯𝐻𝐸 𝒩𝒰𝑀𝐵𝐸𝑅  🎀  🐬\"\"\")\n",
        "    print(\"\\nLet me think of a number between 1 to 100...\\n\")\n",
        "\n",
        "    answer = random.randint(1, 100)\n",
        "    # print(answer)  # Debugging (uncomment if needed)\n",
        "\n",
        "    level = input(\"\\n🎉So, how daring do you feel today? Choose 'easy' or 'hard': \").lower()\n",
        "\n",
        "    attempts = set_difficulty(level)\n",
        "    guessed_number = 0\n",
        "\n",
        "    while guessed_number != answer and attempts > 0:\n",
        "        print(f\"\\nYou have {attempts} attempts remaining to guess the right number.\")\n",
        "\n",
        "        try:\n",
        "            guessed_number = int(input(\"Guess a number: \"))\n",
        "        except ValueError:\n",
        "            print(\"🚨 Invalid input! Please enter a number.\")\n",
        "            continue  # Skip the rest of the loop and retry\n",
        "\n",
        "        attempts = check_answer(guessed_number, answer, attempts)\n",
        "\n",
        "        if attempts is None:  # Correct answer\n",
        "            break\n",
        "        elif attempts == 0:\n",
        "            print(\"\\n💔 Oh no! You're out of guesses. You lose! The correct answer was:\", answer)\n",
        "            return\n",
        "        else:\n",
        "            print(\"🔄 Try again!\")\n",
        "\n",
        "game()\n"
      ]
    }
  ]
}