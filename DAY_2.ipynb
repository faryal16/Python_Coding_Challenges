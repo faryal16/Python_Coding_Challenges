{
  "nbformat": 4,
  "nbformat_minor": 0,
  "metadata": {
    "colab": {
      "provenance": [],
      "authorship_tag": "ABX9TyPd3lhkBe5UDmH/3pA2pPxQ",
      "include_colab_link": true
    },
    "kernelspec": {
      "name": "python3",
      "display_name": "Python 3"
    },
    "language_info": {
      "name": "python"
    }
  },
  "cells": [
    {
      "cell_type": "markdown",
      "metadata": {
        "id": "view-in-github",
        "colab_type": "text"
      },
      "source": [
        "<a href=\"https://colab.research.google.com/github/faryal16/Python_Coding_Challenges/blob/main/DAY_2.ipynb\" target=\"_parent\"><img src=\"https://colab.research.google.com/assets/colab-badge.svg\" alt=\"Open In Colab\"/></a>"
      ]
    },
    {
      "cell_type": "code",
      "execution_count": 3,
      "metadata": {
        "colab": {
          "base_uri": "https://localhost:8080/"
        },
        "id": "63YHQFP96l8H",
        "outputId": "881f64be-6be8-4a9d-ab7a-c1594460c116"
      },
      "outputs": [
        {
          "output_type": "stream",
          "name": "stdout",
          "text": [
            "Enter your name: Faryal Junaid\n",
            "\n",
            "🔹 Processing...\n",
            " Name detected: Faryal Junaid\n",
            "\n",
            "🔹 Access Granted!\n",
            " Welcome, Agent Faryal Junaid. Your mission awaits! 🚀\n"
          ]
        }
      ],
      "source": [
        "# 🎯 Mission :\n",
        "# You are a robot assistant, and your job is to ask the user their name before starting a secret mission! 🤖💬\n",
        "\n",
        "import time\n",
        "\n",
        "def welcome_agent():\n",
        "    name = input(\"Enter your name: \")\n",
        "    print(\"\\n🔹 Processing...\", end=\"\", flush=True)\n",
        "    time.sleep(2)\n",
        "    print(f\"\\n Name detected: {name}\")\n",
        "    time.sleep(1)\n",
        "    print(\"\\n🔹 Access Granted!\", end=\"\", flush=True)\n",
        "    time.sleep(1)\n",
        "    print(f\"\\n Welcome, Agent {name}. Your mission awaits! 🚀\")\n",
        "\n",
        "# Run the function\n",
        "welcome_agent()\n"
      ]
    }
  ]
}