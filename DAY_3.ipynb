{
  "nbformat": 4,
  "nbformat_minor": 0,
  "metadata": {
    "colab": {
      "provenance": [],
      "authorship_tag": "ABX9TyM0MHDyayH+5JTzc+YotKhh",
      "include_colab_link": true
    },
    "kernelspec": {
      "name": "python3",
      "display_name": "Python 3"
    },
    "language_info": {
      "name": "python"
    }
  },
  "cells": [
    {
      "cell_type": "markdown",
      "metadata": {
        "id": "view-in-github",
        "colab_type": "text"
      },
      "source": [
        "<a href=\"https://colab.research.google.com/github/faryal16/Python_Coding_Challenges/blob/main/DAY_3.ipynb\" target=\"_parent\"><img src=\"https://colab.research.google.com/assets/colab-badge.svg\" alt=\"Open In Colab\"/></a>"
      ]
    },
    {
      "cell_type": "code",
      "source": [
        "# 🚀 Mission:\n",
        "# You are creating a Smart Arithmetic Calculator that can perform basic operations:\n",
        "#  Addition (+), Subtraction (-), Multiplication (*), and Division (/). 🧮\n",
        "\n",
        "\n",
        "import time\n",
        "\n",
        "def calculator():\n",
        "    while True:\n",
        "        print(\"\\n🔢 Choose an operation:\")\n",
        "        print(\"1️⃣ Addition (+)\")\n",
        "        print(\"2️⃣ Subtraction (-)\")\n",
        "        print(\"3️⃣ Multiplication (*)\")\n",
        "        print(\"4️⃣ Division (/)\")\n",
        "        print(\"5️⃣ Exit ❌\")\n",
        "\n",
        "        choice = input(\"Enter choice (1-5): \")\n",
        "\n",
        "        if choice == \"5\":\n",
        "            print(\"👋 Exiting the calculator. Have a great day!\")\n",
        "            break  # Exit the loop\n",
        "\n",
        "        if choice not in [\"1\", \"2\", \"3\", \"4\"]:\n",
        "            print(\"⚠️ Invalid choice! Please enter a number between 1 and 5.\")\n",
        "            continue  # Restart the loop\n",
        "\n",
        "        try:\n",
        "            num1 = float(input(\"Enter first number: \"))\n",
        "            num2 = float(input(\"Enter second number: \"))\n",
        "\n",
        "            print(\"\\n🧮 Calculating...\")\n",
        "            time.sleep(1)  # Simulating processing time\n",
        "\n",
        "            if choice == \"1\":\n",
        "                result = num1 + num2\n",
        "                operation = \"+\"\n",
        "            elif choice == \"2\":\n",
        "                result = num1 - num2\n",
        "                operation = \"-\"\n",
        "            elif choice == \"3\":\n",
        "                result = num1 * num2\n",
        "                operation = \"*\"\n",
        "            elif choice == \"4\":\n",
        "                if num2 == 0:\n",
        "\n",
        "                    print(\"❌ Error: Division by zero is not allowed!\")\n",
        "                    continue\n",
        "                result = num1 / num2\n",
        "                operation = \"/\"\n",
        "\n",
        "            print(f\"\\n✅ Result: {num1} {operation} {num2} = {round(result, 2)}\")\n",
        "\n",
        "        except ValueError:\n",
        "            print(\"⚠️ Error: Please enter valid numbers!\")\n",
        "\n",
        "# Run the calculator\n",
        "calculator()\n"
      ],
      "metadata": {
        "colab": {
          "base_uri": "https://localhost:8080/"
        },
        "id": "wOqNxcnLdXKy",
        "outputId": "0dc53a3c-e64a-45a9-93f2-950a06c0e4f0"
      },
      "execution_count": 3,
      "outputs": [
        {
          "output_type": "stream",
          "name": "stdout",
          "text": [
            "\n",
            "🔢 Choose an operation:\n",
            "1️⃣ Addition (+)\n",
            "2️⃣ Subtraction (-)\n",
            "3️⃣ Multiplication (*)\n",
            "4️⃣ Division (/)\n",
            "5️⃣ Exit ❌\n",
            "Enter choice (1-5): 3\n",
            "Enter first number: 5\n",
            "Enter second number: 3\n",
            "\n",
            "🧮 Calculating...\n",
            "\n",
            "✅ Result: 5.0 * 3.0 = 15.0\n",
            "\n",
            "🔢 Choose an operation:\n",
            "1️⃣ Addition (+)\n",
            "2️⃣ Subtraction (-)\n",
            "3️⃣ Multiplication (*)\n",
            "4️⃣ Division (/)\n",
            "5️⃣ Exit ❌\n",
            "Enter choice (1-5): 4\n",
            "Enter first number: 20\n",
            "Enter second number: 4\n",
            "\n",
            "🧮 Calculating...\n",
            "\n",
            "✅ Result: 20.0 / 4.0 = 5.0\n",
            "\n",
            "🔢 Choose an operation:\n",
            "1️⃣ Addition (+)\n",
            "2️⃣ Subtraction (-)\n",
            "3️⃣ Multiplication (*)\n",
            "4️⃣ Division (/)\n",
            "5️⃣ Exit ❌\n",
            "Enter choice (1-5): 5\n",
            "👋 Exiting the calculator. Have a great day!\n"
          ]
        }
      ]
    }
  ]
}