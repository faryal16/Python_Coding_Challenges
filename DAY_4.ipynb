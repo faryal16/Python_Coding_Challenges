{
  "nbformat": 4,
  "nbformat_minor": 0,
  "metadata": {
    "colab": {
      "provenance": [],
      "authorship_tag": "ABX9TyN588Zfn1RjstRVkPfDbws9",
      "include_colab_link": true
    },
    "kernelspec": {
      "name": "python3",
      "display_name": "Python 3"
    },
    "language_info": {
      "name": "python"
    }
  },
  "cells": [
    {
      "cell_type": "markdown",
      "metadata": {
        "id": "view-in-github",
        "colab_type": "text"
      },
      "source": [
        "<a href=\"https://colab.research.google.com/github/faryal16/Python_Coding_Challenges/blob/main/DAY_4.ipynb\" target=\"_parent\"><img src=\"https://colab.research.google.com/assets/colab-badge.svg\" alt=\"Open In Colab\"/></a>"
      ]
    },
    {
      "cell_type": "code",
      "source": [
        "# 🚀 Mission:\n",
        "# Create a simple program that checks whether a number is Even or Odd.\n",
        "\n",
        "while True:\n",
        "    try:\n",
        "        user_input = input(\"🚀 Enter a number (or type 'exit' to quit): \")\n",
        "        if user_input.lower() == 'exit':\n",
        "            print(\"👋 Goodbye! Have a great day! 🤝\")\n",
        "            break\n",
        "\n",
        "        number = int(user_input)  # Convert input to integer\n",
        "\n",
        "        if number % 2 == 0:\n",
        "            print(f\" 📜 {number} is an Even number. 🟢\")\n",
        "        else:\n",
        "            print(f\" ✍ {number} is an Odd number. 🟠\")\n",
        "\n",
        "    except ValueError:\n",
        "        print(\"⚠️ Oops! That's not a valid number. Please try again. 🔄\")\n",
        "\n"
      ],
      "metadata": {
        "colab": {
          "base_uri": "https://localhost:8080/"
        },
        "id": "RE0EuNtIdn6N",
        "outputId": "e8fe4a7c-0cf4-41b9-beef-d27a38c16499"
      },
      "execution_count": 27,
      "outputs": [
        {
          "output_type": "stream",
          "name": "stdout",
          "text": [
            "🚀 Enter a number (or type 'exit' to quit): 2\n",
            " 📜 2 is an Even number. 🟢\n",
            "🚀 Enter a number (or type 'exit' to quit): 6\n",
            " 📜 6 is an Even number. 🟢\n",
            "🚀 Enter a number (or type 'exit' to quit): 9\n",
            " ✍ 9 is an Odd number. 🟠\n",
            "🚀 Enter a number (or type 'exit' to quit): 5\n",
            " ✍ 5 is an Odd number. 🟠\n",
            "🚀 Enter a number (or type 'exit' to quit): ft\n",
            "⚠️ Oops! That's not a valid number. Please try again. 🔄\n",
            "🚀 Enter a number (or type 'exit' to quit): exit\n",
            "👋 Goodbye! Have a great day! 🤝\n"
          ]
        }
      ]
    }
  ]
}